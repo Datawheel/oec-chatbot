{
 "cells": [
  {
   "cell_type": "code",
   "execution_count": 1,
   "metadata": {},
   "outputs": [],
   "source": [
    "%load_ext dotenv\n",
    "%dotenv\n",
    "\n",
    "from api_data_request.api import *\n",
    "from table_selection.table_selector import *\n",
    "from table_selection.table import *\n",
    "\n",
    "from os import getenv"
   ]
  },
  {
   "cell_type": "code",
   "execution_count": 2,
   "metadata": {},
   "outputs": [],
   "source": [
    "jsondata = {\n",
    "    \"drilldowns\": [\"Year\", \"Exporter\", \"Importer\", \"HS Product\"],\n",
    "    \"measures\": [\"Quantity\"],\n",
    "    \"filters\": [\"HS6 = Coffee\", \"Exporter Country = Colombia\", \"Importer Country = Chile\", \"Year = 2010\", \"Year = 2011\", \"Year = 2012\", \"Year = 2013\", \"Year = 2014\", \"Year = 2015\", \"Year = 2016\", \"Year = 2017\", \"Year = 2018\", \"Year = 2019\", \"Year = 2020\"]\n",
    "}\n",
    "\n",
    "v = jsondata[\"drilldowns\"]\n",
    "m = jsondata[\"measures\"]\n",
    "c = jsondata[\"filters\"]"
   ]
  },
  {
   "cell_type": "code",
   "execution_count": 3,
   "metadata": {},
   "outputs": [
    {
     "data": {
      "text/plain": [
       "'trade_i_baci_a_96'"
      ]
     },
     "execution_count": 3,
     "metadata": {},
     "output_type": "execute_result"
    }
   ],
   "source": [
    "TABLES_PATH = getenv('TABLES_PATH')\n",
    "manager = TableManager(TABLES_PATH)\n",
    "table = manager.get_table(\"trade_i_baci_a_96\")\n",
    "table.name"
   ]
  },
  {
   "cell_type": "markdown",
   "metadata": {},
   "source": [
    "### Form JSON"
   ]
  },
  {
   "cell_type": "code",
   "execution_count": 4,
   "metadata": {},
   "outputs": [],
   "source": [
    "form_json = {\n",
    "    \"base_url\": \"\",\n",
    "    \"cube\": \"trade_i_baci_a_96\",\n",
    "    \"dimensions\": {\n",
    "        \"Year\": [\n",
    "            2022,\n",
    "            2021\n",
    "        ],\n",
    "        \"HS Product\": ['Coffee'],\n",
    "        \"Hierarchy:Geography\": [\n",
    "            {\n",
    "                \"Exporter\": ['Chile', 'Argentina']\n",
    "            },\n",
    "            {\n",
    "                \"Importer\": []\n",
    "            }\n",
    "        ],\n",
    "        \"Unit\": []\n",
    "    },\n",
    "    \"measures\": [\n",
    "        \"Trade Value\",\n",
    "        \"Quantity\"\n",
    "    ],\n",
    "    \"limit\": \"\",\n",
    "    \"sort\": \"\",\n",
    "    \"locale\": \"\"\n",
    "}"
   ]
  },
  {
   "cell_type": "markdown",
   "metadata": {},
   "source": [
    "# ApiBuilder Class"
   ]
  },
  {
   "cell_type": "markdown",
   "metadata": {},
   "source": [
    "## Initializer"
   ]
  },
  {
   "cell_type": "markdown",
   "metadata": {},
   "source": [
    "### Option 1"
   ]
  },
  {
   "cell_type": "code",
   "execution_count": 5,
   "metadata": {},
   "outputs": [],
   "source": [
    "api = ApiBuilder(table = table, drilldowns = v, measures = m, cuts = c)"
   ]
  },
  {
   "cell_type": "markdown",
   "metadata": {},
   "source": [
    "### Option 2\n",
    "\n",
    "Initialize an ApiBuilder object using the form_json"
   ]
  },
  {
   "cell_type": "code",
   "execution_count": 6,
   "metadata": {},
   "outputs": [],
   "source": [
    "api_json = ApiBuilder(table = table, form_json = form_json)"
   ]
  },
  {
   "cell_type": "markdown",
   "metadata": {},
   "source": [
    "## Attributes"
   ]
  },
  {
   "cell_type": "code",
   "execution_count": 7,
   "metadata": {},
   "outputs": [
    {
     "name": "stdout",
     "output_type": "stream",
     "text": [
      "Cube: trade_i_baci_a_96\n",
      "Base url: https://api-yak.oec.world/tesseract/data.jsonrecords?\n",
      "Cuts: {'HS4': {'20901'}, 'Exporter Country': {'sacol'}, 'Importer Country': {'sachl'}}\n",
      "Drilldowns: {'HS4', 'Year'}\n",
      "Measures: {'Quantity'}\n"
     ]
    }
   ],
   "source": [
    "print(\"Cube:\", api.cube)\n",
    "print(\"Base url:\", api.base_url)\n",
    "print(\"Cuts:\", api.cuts)\n",
    "print(\"Drilldowns:\", api.drilldowns)\n",
    "print(\"Measures:\", api.measures)"
   ]
  },
  {
   "cell_type": "code",
   "execution_count": 8,
   "metadata": {},
   "outputs": [
    {
     "name": "stdout",
     "output_type": "stream",
     "text": [
      "Cube: trade_i_baci_a_96\n",
      "Base url: https://api-yak.oec.world/tesseract/data.jsonrecords?\n",
      "Cuts: {'HS4': {'20901'}, 'Exporter Country': {'saarg', 'sachl'}}\n",
      "Drilldowns: {'HS4', 'Exporter Country'}\n",
      "Measures: {'Quantity', 'Trade Value'}\n"
     ]
    }
   ],
   "source": [
    "print(\"Cube:\", api_json.cube)\n",
    "print(\"Base url:\", api_json.base_url)\n",
    "print(\"Cuts:\", api_json.cuts)\n",
    "print(\"Drilldowns:\", api_json.drilldowns)\n",
    "print(\"Measures:\", api_json.measures)"
   ]
  },
  {
   "cell_type": "code",
   "execution_count": 9,
   "metadata": {},
   "outputs": [
    {
     "data": {
      "text/plain": [
       "'https://api-yak.oec.world/tesseract/data.jsonrecords?cube=trade_i_baci_a_96&HS4=20901&Exporter Country=saarg,sachl&drilldowns=HS4,Exporter Country&measures=Quantity,Trade Value'"
      ]
     },
     "execution_count": 9,
     "metadata": {},
     "output_type": "execute_result"
    }
   ],
   "source": [
    "api_json.build_api()"
   ]
  },
  {
   "cell_type": "code",
   "execution_count": 10,
   "metadata": {},
   "outputs": [
    {
     "data": {
      "text/plain": [
       "([{'HS4 ID': 20901,\n",
       "   'HS4': 'Coffee',\n",
       "   'Country ID': 'saarg',\n",
       "   'Country': 'Argentina',\n",
       "   'Quantity': 7267.860000000001,\n",
       "   'Trade Value': 33985451.0},\n",
       "  {'HS4 ID': 20901,\n",
       "   'HS4': 'Coffee',\n",
       "   'Country ID': 'sachl',\n",
       "   'Country': 'Chile',\n",
       "   'Quantity': 3953.075,\n",
       "   'Trade Value': 14314975.0}],\n",
       "    HS4 ID     HS4 Country ID    Country  Quantity  Trade Value\n",
       " 0   20901  Coffee      saarg  Argentina  7267.860   33985451.0\n",
       " 1   20901  Coffee      sachl      Chile  3953.075   14314975.0,\n",
       " '')"
      ]
     },
     "execution_count": 10,
     "metadata": {},
     "output_type": "execute_result"
    }
   ],
   "source": [
    "api_json.fetch_data()"
   ]
  }
 ],
 "metadata": {
  "kernelspec": {
   "display_name": "ai-env",
   "language": "python",
   "name": "python3"
  },
  "language_info": {
   "codemirror_mode": {
    "name": "ipython",
    "version": 3
   },
   "file_extension": ".py",
   "mimetype": "text/x-python",
   "name": "python",
   "nbconvert_exporter": "python",
   "pygments_lexer": "ipython3",
   "version": "3.11.3"
  }
 },
 "nbformat": 4,
 "nbformat_minor": 2
}
