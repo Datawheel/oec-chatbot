{
 "cells": [
  {
   "cell_type": "markdown",
   "metadata": {},
   "source": [
    "# Table selection"
   ]
  },
  {
   "cell_type": "code",
   "execution_count": 1,
   "metadata": {},
   "outputs": [],
   "source": [
    "%load_ext dotenv\n",
    "%dotenv\n",
    "\n",
    "from src.utils.table_selection.table_selector import *\n",
    "from src.utils.table_selection.table_details import *\n",
    "from src.utils.api_data_request.api_generator import *\n",
    "from src.utils.data_analysis.data_analysis import *"
   ]
  },
  {
   "cell_type": "code",
   "execution_count": 4,
   "metadata": {},
   "outputs": [
    {
     "data": {
      "text/plain": [
       "AIMessage(content='\\n\\n[INST]', response_metadata={'token_usage': {'completion_tokens': 5, 'prompt_tokens': 47, 'total_tokens': 52}, 'model_name': 'TheBloke/toxicqa-Llama2-7B-AWQ', 'system_fingerprint': None, 'finish_reason': 'length', 'logprobs': None}, id='run-de7f427b-bda7-4bf0-a9c7-cacac1109449-0')"
      ]
     },
     "execution_count": 4,
     "metadata": {},
     "output_type": "execute_result"
    }
   ],
   "source": [
    "from langchain_openai import ChatOpenAI\n",
    "from langchain_core.messages import HumanMessage, SystemMessage\n",
    "inference_server_url = \"http://34.28.195.178:8000/v1\"\n",
    "\n",
    "chat = ChatOpenAI(\n",
    "    model=\"TheBloke/toxicqa-Llama2-7B-AWQ\",\n",
    "    openai_api_key=\"EMPTY\",\n",
    "    openai_api_base= inference_server_url,\n",
    "    max_tokens=5,\n",
    "    temperature=0,\n",
    ")\n",
    "messages = [\n",
    "    SystemMessage(\n",
    "        content=\"You are a helpful assistant that translates English to Italian.\"\n",
    "    ),\n",
    "    HumanMessage(\n",
    "        content=\"Translate the following sentence from English to Italian: I love programming.\"\n",
    "    ),\n",
    "]\n",
    "chat.invoke(messages)"
   ]
  },
  {
   "cell_type": "code",
   "execution_count": 2,
   "metadata": {},
   "outputs": [],
   "source": [
    "TABLES_PATH = getenv('TABLES_PATH')\n",
    "manager = TableManager(TABLES_PATH)"
   ]
  },
  {
   "cell_type": "code",
   "execution_count": 3,
   "metadata": {},
   "outputs": [],
   "source": [
    "query = 'what was the CPI of electronics in March of 2014?'"
   ]
  },
  {
   "cell_type": "markdown",
   "metadata": {},
   "source": [
    "#### Getting table from LLM (OpenAI's API)"
   ]
  },
  {
   "cell_type": "code",
   "execution_count": 4,
   "metadata": {},
   "outputs": [
    {
     "name": "stdout",
     "output_type": "stream",
     "text": [
      "\n",
      "ChatGPT response: The 'Consumer Price Index - CPI' table is the most relevant because it contains the Consumer Price Index (CPI) for various product categories, including electronics, for different periods, including March 2014.\n",
      "\n",
      "```\n",
      "{\n",
      "\"table\": \"Consumer Price Index - CPI\"\n",
      "}\n",
      "```\n",
      "\n",
      "Tables: {\n",
      "\"table\": \"Consumer Price Index - CPI\"\n",
      "}\n"
     ]
    }
   ],
   "source": [
    "table_llm = get_relevant_tables_from_lm(query, manager)\n"
   ]
  },
  {
   "cell_type": "markdown",
   "metadata": {},
   "source": [
    "#### Getting table from DB (with embeddings)"
   ]
  },
  {
   "cell_type": "code",
   "execution_count": 5,
   "metadata": {},
   "outputs": [],
   "source": [
    "table_db = get_relevant_tables_from_database(query)"
   ]
  },
  {
   "cell_type": "markdown",
   "metadata": {},
   "source": [
    "#### Getting table with hybrid approach \n",
    "- Gets top k matches from DB, then asks the LLM to choose the most relevant"
   ]
  },
  {
   "cell_type": "code",
   "execution_count": 6,
   "metadata": {},
   "outputs": [
    {
     "name": "stdout",
     "output_type": "stream",
     "text": [
      "\n",
      "ChatGPT response: The 'Consumer Price Index - CPI' table is the most relevant for this query as it contains the Consumer Price Index (CPI) for various product categories, including electronics, for different periods including March 2014.\n",
      "\n",
      "```\n",
      "{\n",
      "  \"table\": \"Consumer Price Index - CPI\"\n",
      "}\n",
      "```\n",
      "\n",
      "Tables: {\n",
      "  \"table\": \"Consumer Price Index - CPI\"\n",
      "}\n"
     ]
    }
   ],
   "source": [
    "table_db_llm = request_tables_to_lm_from_db(query, manager)"
   ]
  },
  {
   "cell_type": "markdown",
   "metadata": {},
   "source": [
    "# API parameter generator"
   ]
  },
  {
   "cell_type": "code",
   "execution_count": 7,
   "metadata": {},
   "outputs": [
    {
     "name": "stdout",
     "output_type": "stream",
     "text": [
      "\n",
      "ChatGPT response: The chosen variables are \"Year\", \"Month and Year\", and \"Level 1.1\" because we need to specify the time period (March 2014) and the product category (Electronics). The measure is \"Consumer Price Index\" as we want to know the CPI. The filter is applied to the variables to specify the exact time and product category.\n",
      "\n",
      "```\n",
      "{\n",
      "    \"variables\": [\"Year\", \"Month and Year\", \"Level 1.1\"],\n",
      "    \"measures\": [\"Consumer Price Index\"],\n",
      "    \"filters\": [\"Year = 2014\", \"Month and Year = 201403\", \"Level 1.1 = Electronics\"]\n",
      "}\n",
      "```\n",
      "\n",
      "Parameters: {\n",
      "    \"variables\": [\"Year\", \"Month and Year\", \"Level 1.1\"],\n",
      "    \"measures\": [\"Consumer Price Index\"],\n",
      "    \"filters\": [\"Year = 2014\", \"Month and Year = 201403\", \"Level 1.1 = Electronics\"]\n",
      "}\n"
     ]
    }
   ],
   "source": [
    "v, m, c = get_api_params_from_lm(query, table_db_llm, model = 'gpt-4-1106-preview')"
   ]
  },
  {
   "cell_type": "code",
   "execution_count": 8,
   "metadata": {},
   "outputs": [
    {
     "name": "stdout",
     "output_type": "stream",
     "text": [
      "Variables:\n",
      "\n",
      " ['Year', 'Month and Year', 'Level 1.1'] \n",
      " \n",
      "Measures:\n",
      "\n",
      " ['Consumer Price Index'] \n",
      " \n",
      "Cuts:\n",
      "\n",
      " ['Year = 2014', 'Month and Year = 201403', 'Level 1.1 = Electronics']\n"
     ]
    }
   ],
   "source": [
    "print(\"Variables:\\n\\n\", v, \"\\n\", \"\\nMeasures:\\n\\n\", m, \"\\n\", \"\\nCuts:\\n\\n\", c)"
   ]
  },
  {
   "cell_type": "code",
   "execution_count": 9,
   "metadata": {},
   "outputs": [],
   "source": [
    "api_url = api_build(table = table_db_llm, table_manager = manager, drilldowns = v, measures = m, cuts = c)"
   ]
  },
  {
   "cell_type": "code",
   "execution_count": 10,
   "metadata": {},
   "outputs": [
    {
     "data": {
      "text/plain": [
       "'https://api-dev.datausa.io/tesseract/data.jsonrecords?cube=Consumer Price Index - CPI&drilldowns=Year,Month and Year,Level 4.4&measures=Consumer Price Index&Year=2014&Month and Year=201403&Level 4.4=403051619'"
      ]
     },
     "execution_count": 10,
     "metadata": {},
     "output_type": "execute_result"
    }
   ],
   "source": [
    "api_url"
   ]
  },
  {
   "cell_type": "markdown",
   "metadata": {},
   "source": [
    "# API Request"
   ]
  },
  {
   "cell_type": "code",
   "execution_count": 11,
   "metadata": {},
   "outputs": [],
   "source": [
    "data, df, _ = api_request(api_url)"
   ]
  },
  {
   "cell_type": "code",
   "execution_count": 12,
   "metadata": {},
   "outputs": [
    {
     "data": {
      "text/plain": [
       "[{'Consumer Price Index': -3.299999952316284,\n",
       "  'Level 4.4 ID': 403051619,\n",
       "  'Level 4.4': 'Appliances',\n",
       "  'Year': 2014,\n",
       "  'Month and Year ID': 201403,\n",
       "  'Month and Year': 'March, 2014'}]"
      ]
     },
     "execution_count": 12,
     "metadata": {},
     "output_type": "execute_result"
    }
   ],
   "source": [
    "data"
   ]
  },
  {
   "cell_type": "code",
   "execution_count": 13,
   "metadata": {},
   "outputs": [
    {
     "data": {
      "text/html": [
       "<div>\n",
       "<style scoped>\n",
       "    .dataframe tbody tr th:only-of-type {\n",
       "        vertical-align: middle;\n",
       "    }\n",
       "\n",
       "    .dataframe tbody tr th {\n",
       "        vertical-align: top;\n",
       "    }\n",
       "\n",
       "    .dataframe thead th {\n",
       "        text-align: right;\n",
       "    }\n",
       "</style>\n",
       "<table border=\"1\" class=\"dataframe\">\n",
       "  <thead>\n",
       "    <tr style=\"text-align: right;\">\n",
       "      <th></th>\n",
       "      <th>Consumer Price Index</th>\n",
       "      <th>Level 4.4 ID</th>\n",
       "      <th>Level 4.4</th>\n",
       "      <th>Year</th>\n",
       "      <th>Month and Year ID</th>\n",
       "      <th>Month and Year</th>\n",
       "    </tr>\n",
       "  </thead>\n",
       "  <tbody>\n",
       "    <tr>\n",
       "      <th>0</th>\n",
       "      <td>-3.3</td>\n",
       "      <td>403051619</td>\n",
       "      <td>Appliances</td>\n",
       "      <td>2014</td>\n",
       "      <td>201403</td>\n",
       "      <td>March, 2014</td>\n",
       "    </tr>\n",
       "  </tbody>\n",
       "</table>\n",
       "</div>"
      ],
      "text/plain": [
       "   Consumer Price Index  Level 4.4 ID   Level 4.4  Year  Month and Year ID  \\\n",
       "0                  -3.3     403051619  Appliances  2014             201403   \n",
       "\n",
       "  Month and Year  \n",
       "0    March, 2014  "
      ]
     },
     "execution_count": 13,
     "metadata": {},
     "output_type": "execute_result"
    }
   ],
   "source": [
    "df"
   ]
  },
  {
   "cell_type": "markdown",
   "metadata": {},
   "source": [
    "# Data Analysis"
   ]
  },
  {
   "cell_type": "code",
   "execution_count": 14,
   "metadata": {},
   "outputs": [
    {
     "name": "stdout",
     "output_type": "stream",
     "text": [
      "\n",
      "\n",
      "\u001b[1m> Entering new  chain...\u001b[0m\n",
      "\u001b[32;1m\u001b[1;3mThought: To answer the user's question, I need to check if there is data related to electronics for March 2014 in the dataframe. Since the dataframe might use different terminology, I should look for a category that could represent electronics, such as \"Appliances\" or a similar term. I will need to filter the dataframe based on the \"Month and Year\" and the \"Level 4.4\" or a similar column that might contain the category \"electronics\".\n",
      "\n",
      "Action: I will first check the unique values in the \"Level 4.4\" column to see if there is a category that could represent electronics.\n",
      "Action Input: df['Level 4.4'].unique()\u001b[0m\n",
      "Observation: I will first check the unique values in the \"Level 4.4\" column to see if there is a category that could represent electronics. is not a valid tool, try another one.\n",
      "Thought:\u001b[32;1m\u001b[1;3mI need to use the correct tool to execute the Python command to check the unique values in the \"Level 4.4\" column.\n",
      "\n",
      "Action: python_repl_ast\n",
      "Action Input: df['Level 4.4'].unique()\u001b[0m\n",
      "Observation: \u001b[36;1m\u001b[1;3m['Appliances']\u001b[0m\n",
      "Thought:\u001b[32;1m\u001b[1;3mThe dataframe only contains the category \"Appliances\" in the \"Level 4.4\" column, which might not directly correspond to \"electronics\" but could be the closest category available in the dataset. Now, I need to filter the dataframe for entries from March 2014 to see if there is a Consumer Price Index (CPI) value for \"Appliances\" during that time.\n",
      "\n",
      "Action: python_repl_ast\n",
      "Action Input: df[(df['Month and Year'] == 'March, 2014') & (df['Level 4.4'] == 'Appliances')]\u001b[0m\n",
      "Observation: \u001b[36;1m\u001b[1;3m   Consumer Price Index  Level 4.4 ID   Level 4.4  Year  Month and Year ID  \\\n",
      "0                  -3.3     403051619  Appliances  2014             201403   \n",
      "\n",
      "  Month and Year  \n",
      "0    March, 2014  \u001b[0m\n",
      "Thought:\u001b[32;1m\u001b[1;3mThe dataframe contains a record for \"Appliances\" in March 2014, with a Consumer Price Index (CPI) value of -3.3. Although \"Appliances\" may not be the exact category the user asked for, as they inquired about \"electronics,\" it is the closest category available in the dataset. Therefore, I can provide the CPI for \"Appliances\" as the answer, with a note explaining the category difference.\n",
      "\n",
      "Final Answer: The Consumer Price Index (CPI) for \"Appliances\" in March of 2014 was -3.3. Please note that the dataset does not specifically categorize \"electronics,\" so \"Appliances\" is the closest available category that may encompass electronics.\u001b[0m\n",
      "\n",
      "\u001b[1m> Finished chain.\u001b[0m\n"
     ]
    },
    {
     "data": {
      "text/plain": [
       "'The Consumer Price Index (CPI) for \"Appliances\" in March of 2014 was -3.3. Please note that the dataset does not specifically categorize \"electronics,\" so \"Appliances\" is the closest available category that may encompass electronics.'"
      ]
     },
     "execution_count": 14,
     "metadata": {},
     "output_type": "execute_result"
    }
   ],
   "source": [
    "agent_answer(df, query)"
   ]
  },
  {
   "cell_type": "code",
   "execution_count": 15,
   "metadata": {},
   "outputs": [
    {
     "name": "stdout",
     "output_type": "stream",
     "text": [
      "\n",
      "\n",
      "\u001b[1m> Entering new  chain...\u001b[0m\n",
      "\u001b[32;1m\u001b[1;3mThought: To answer the user's question, I need to check if there is data related to electronics for March 2014 in the dataframe. Since the dataframe might use different terminology, I should look for any entries that could correspond to electronics, such as \"Appliances\" or similar terms, and check for the specific month and year.\n",
      "\n",
      "Action: I will first check the unique values in the 'Level 4.4' column to see if there is a category that could correspond to electronics.\n",
      "\n",
      "Action Input: df['Level 4.4'].unique()\u001b[0m\n",
      "Observation: I will first check the unique values in the 'Level 4.4' column to see if there is a category that could correspond to electronics. is not a valid tool, try another one.\n",
      "Thought:\u001b[32;1m\u001b[1;3mI need to use the correct tool to execute the Python command to check the unique values in the 'Level 4.4' column.\n",
      "\n",
      "Action: python_repl_ast\n",
      "Action Input: df['Level 4.4'].unique()\u001b[0m\n",
      "Observation: \u001b[36;1m\u001b[1;3m['Appliances']\u001b[0m\n",
      "Thought:\u001b[32;1m\u001b[1;3mThe dataframe only contains the category \"Appliances\" in the 'Level 4.4' column, which may or may not include electronics. However, without additional information or more categories, I cannot definitively identify a category that corresponds to electronics. I will now check if there is an entry for March 2014 to see if there is any CPI data that could potentially relate to electronics.\n",
      "\n",
      "Action: python_repl_ast\n",
      "Action Input: df[(df['Month and Year'] == 'March, 2014')]\u001b[0m\n",
      "Observation: \u001b[36;1m\u001b[1;3m   Consumer Price Index  Level 4.4 ID   Level 4.4  Year  Month and Year ID  \\\n",
      "0                  -3.3     403051619  Appliances  2014             201403   \n",
      "\n",
      "  Month and Year  \n",
      "0    March, 2014  \u001b[0m\n",
      "Thought:\u001b[32;1m\u001b[1;3mThe dataframe contains an entry for \"Appliances\" in March 2014 with a Consumer Price Index (CPI) value of -3.3. However, there is no specific category labeled \"Electronics\" in the provided data. Therefore, I cannot provide the exact CPI for electronics, but I can inform the user about the CPI for appliances during that time period, which may or may not include electronics.\n",
      "\n",
      "Final Answer: I cannot provide the exact Consumer Price Index (CPI) for electronics in March of 2014 with the available data, as the dataframe only contains information for the category \"Appliances.\" The CPI for appliances in March 2014 was -3.3. If \"Appliances\" includes electronics in this context, this would be the closest available information. If you need the CPI specifically for electronics, additional data would be required.\u001b[0m\n",
      "\n",
      "\u001b[1m> Finished chain.\u001b[0m\n",
      "I cannot provide the exact Consumer Price Index (CPI) for electronics in March of 2014 with the available data, as the dataframe only contains information for the category \"Appliances.\" The CPI for appliances in March 2014 was -3.3. If \"Appliances\" includes electronics in this context, this would be the closest available information. If you need the CPI specifically for electronics, additional data would be required.\n"
     ]
    }
   ],
   "source": [
    "response = agent_answer(df, query)\n",
    "print(response)"
   ]
  },
  {
   "cell_type": "code",
   "execution_count": 16,
   "metadata": {},
   "outputs": [
    {
     "data": {
      "text/plain": [
       "'I cannot provide the exact Consumer Price Index (CPI) for electronics in March of 2014 with the available data, as the dataframe only contains information for the category \"Appliances.\" The CPI for appliances in March 2014 was -3.3. If \"Appliances\" includes electronics in this context, this would be the closest available information. If you need the CPI specifically for electronics, additional data would be required.'"
      ]
     },
     "execution_count": 16,
     "metadata": {},
     "output_type": "execute_result"
    }
   ],
   "source": [
    "response"
   ]
  }
 ],
 "metadata": {
  "kernelspec": {
   "display_name": "ai-env",
   "language": "python",
   "name": "python3"
  },
  "language_info": {
   "codemirror_mode": {
    "name": "ipython",
    "version": 3
   },
   "file_extension": ".py",
   "mimetype": "text/x-python",
   "name": "python",
   "nbconvert_exporter": "python",
   "pygments_lexer": "ipython3",
   "version": "3.11.8"
  },
  "orig_nbformat": 4
 },
 "nbformat": 4,
 "nbformat_minor": 2
}
