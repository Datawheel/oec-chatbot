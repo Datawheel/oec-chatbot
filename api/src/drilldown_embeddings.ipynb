{
 "cells": [
  {
   "cell_type": "code",
   "execution_count": 1,
   "metadata": {},
   "outputs": [],
   "source": [
    "import requests\n",
    "from config import OLLAMA_API\n",
    "\n",
    "from utils.similarity_search import get_similar_content"
   ]
  },
  {
   "cell_type": "code",
   "execution_count": 2,
   "metadata": {},
   "outputs": [
    {
     "name": "stdout",
     "output_type": "stream",
     "text": [
      "4096\n"
     ]
    }
   ],
   "source": [
    "import json\n",
    "url = \"{}embeddings\".format(OLLAMA_API)\n",
    "\n",
    "payload = {\n",
    "    \"model\": 'mixtral',\n",
    "    \"prompt\": 'copper'\n",
    "}\n",
    "\n",
    "response = requests.post(url, json = payload)\n",
    "embeddings_json = json.loads(response.text)\n",
    "embedding = embeddings_json['embedding']\n",
    "\n",
    "print(len(embedding))"
   ]
  },
  {
   "cell_type": "markdown",
   "metadata": {},
   "source": [
    "## Nomic"
   ]
  },
  {
   "cell_type": "code",
   "execution_count": 17,
   "metadata": {},
   "outputs": [
    {
     "name": "stdout",
     "output_type": "stream",
     "text": [
      "  drilldown_id              drilldown_name drilldown  similarity\n",
      "0       116301                    Blankets       HS4    0.927273\n",
      "1       168466  Metalworking Machine Parts       HS4    0.925486\n",
      "2        10101                      Horses       HS4    0.921990\n",
      "3        74009                Rubber Pipes       HS4    0.918991\n",
      "4       136806                   Rock Wool       HS4    0.918893\n",
      "5       136901                      Bricks       HS4    0.915178\n",
      "6       168461       Metalworking Machines       HS4    0.914905\n",
      "7       104910                   Calendars       HS4    0.914679\n",
      "8       168418               Refrigerators       HS4    0.912383\n",
      "9       168501             Electric Motors       HS4    0.912356\n"
     ]
    },
    {
     "data": {
      "text/plain": [
       "('116301', 'Blankets', 0.9272734715535227)"
      ]
     },
     "execution_count": 17,
     "metadata": {},
     "output_type": "execute_result"
    }
   ],
   "source": [
    "get_similar_content('Copper', 'trade_i_baci_a_96', drilldown_names=[\"Section\", \"HS2\", \"HS4\", \"HS6\"], content_limit = 10, embedding_model=\"nomic-embed-text\", verbose = True, table_name = 'drilldowns_nomic')"
   ]
  },
  {
   "cell_type": "markdown",
   "metadata": {},
   "source": [
    "## Sentence transformers"
   ]
  },
  {
   "cell_type": "code",
   "execution_count": 16,
   "metadata": {},
   "outputs": [
    {
     "name": "stdout",
     "output_type": "stream",
     "text": [
      "  drilldown_id drilldown_name              drilldown  similarity\n",
      "0       157419            HS4  Other Copper Products    0.845010\n",
      "1       157402            HS4             Raw Copper    0.841831\n",
      "2        52603            HS4             Copper Ore    0.828056\n",
      "3       157408            HS4            Copper Wire    0.817539\n",
      "4       157406            HS4          Copper Powder    0.813652\n",
      "5       157403            HS4         Refined Copper    0.808346\n",
      "6       157405            HS4          Copper Alloys    0.793188\n",
      "7       157411            HS4           Copper Pipes    0.787502\n",
      "8       157404            HS4           Scrap Copper    0.784586\n",
      "9       157401            HS4    Precipitated Copper    0.762884\n"
     ]
    },
    {
     "data": {
      "text/plain": [
       "('157419', 'HS4', 0.8450096166293404)"
      ]
     },
     "execution_count": 16,
     "metadata": {},
     "output_type": "execute_result"
    }
   ],
   "source": [
    "get_similar_content('Copper', 'trade_i_baci_a_96', drilldown_names=[\"Section\", \"HS2\", \"HS4\", \"HS6\"], content_limit = 10, embedding_model=\"multi-qa-MiniLM-L6-cos-v1\", verbose = True)"
   ]
  },
  {
   "cell_type": "markdown",
   "metadata": {},
   "source": [
    "## MXBAI"
   ]
  },
  {
   "cell_type": "code",
   "execution_count": 18,
   "metadata": {},
   "outputs": [
    {
     "name": "stdout",
     "output_type": "stream",
     "text": [
      "  drilldown_id   drilldown_name drilldown  similarity\n",
      "0       219703       Sculptures       HS4    0.842360\n",
      "1        52605       Cobalt Ore       HS4    0.840868\n",
      "2       157203  Iron Reductions       HS4    0.832447\n",
      "3       157410      Copper Foil       HS4    0.830576\n",
      "4        52509            Chalk       HS4    0.830053\n",
      "5        62804         Hydrogen       HS4    0.827244\n",
      "6        52505             Sand       HS4    0.825454\n",
      "7        20905          Vanilla       HS4    0.819950\n",
      "8       219701        Paintings       HS4    0.818561\n",
      "9        52506           Quartz       HS4    0.815412\n"
     ]
    },
    {
     "data": {
      "text/plain": [
       "('219703', 'Sculptures', 0.8423603805125534)"
      ]
     },
     "execution_count": 18,
     "metadata": {},
     "output_type": "execute_result"
    }
   ],
   "source": [
    "get_similar_content('Copper', 'trade_i_baci_a_96', drilldown_names=[\"Section\", \"HS2\", \"HS4\", \"HS6\"], content_limit = 10, embedding_model=\"mxbai-embed-large\", verbose = True, table_name = 'drilldowns_mxbai')"
   ]
  },
  {
   "cell_type": "markdown",
   "metadata": {},
   "source": [
    "## LLama2"
   ]
  },
  {
   "cell_type": "code",
   "execution_count": 34,
   "metadata": {},
   "outputs": [
    {
     "name": "stdout",
     "output_type": "stream",
     "text": [
      "  drilldown_id  drilldown_name drilldown  similarity\n",
      "0       157403  Refined Copper       HS4    0.733704\n",
      "1       157402      Raw Copper       HS4    0.686692\n",
      "2       157404    Scrap Copper       HS4    0.596740\n",
      "3       158108        Titanium       HS4    0.540329\n",
      "4       147106          Silver       HS4    0.537224\n",
      "5       157503    Scrap Nickel       HS4    0.532746\n",
      "6       157502      Raw Nickel       HS4    0.518826\n",
      "7       158102      Molybdenum       HS4    0.512884\n",
      "8       147108            Gold       HS4    0.512368\n",
      "9        52526       Soapstone       HS4    0.502611\n"
     ]
    },
    {
     "data": {
      "text/plain": [
       "('157403', 'Refined Copper', 0.733704041846153)"
      ]
     },
     "execution_count": 34,
     "metadata": {},
     "output_type": "execute_result"
    }
   ],
   "source": [
    "get_similar_content('Copper', 'trade_i_baci_a_96', drilldown_names=[\"Section\", \"HS2\", \"HS4\", \"HS6\"], content_limit = 10, embedding_model=\"llama2\", verbose = True, table_name = 'drilldowns_llama2')"
   ]
  },
  {
   "cell_type": "markdown",
   "metadata": {},
   "source": [
    "## LLama3"
   ]
  },
  {
   "cell_type": "code",
   "execution_count": 35,
   "metadata": {},
   "outputs": [
    {
     "name": "stdout",
     "output_type": "stream",
     "text": [
      "  drilldown_id  drilldown_name drilldown  similarity\n",
      "0       157402      Raw Copper       HS4    0.834752\n",
      "1       157403  Refined Copper       HS4    0.824505\n",
      "2       157404    Scrap Copper       HS4    0.768881\n",
      "3       158108        Titanium       HS4    0.723302\n",
      "4        52504        Graphite       HS4    0.712994\n",
      "5       147110        Platinum       HS4    0.702938\n",
      "6       158103        Tantalum       HS4    0.701055\n",
      "7       158105          Cobalt       HS4    0.692833\n",
      "8        63805      Turpentine       HS4    0.692090\n",
      "9        52526       Soapstone       HS4    0.689199\n"
     ]
    },
    {
     "data": {
      "text/plain": [
       "('157402', 'Raw Copper', 0.8347517101889466)"
      ]
     },
     "execution_count": 35,
     "metadata": {},
     "output_type": "execute_result"
    }
   ],
   "source": [
    "get_similar_content('Copper', 'trade_i_baci_a_96', drilldown_names=[\"Section\", \"HS2\", \"HS4\", \"HS6\"], content_limit = 10, embedding_model=\"llama3\", verbose = True, table_name = 'drilldowns_llama3')"
   ]
  },
  {
   "cell_type": "markdown",
   "metadata": {},
   "source": [
    "## Mixtral"
   ]
  },
  {
   "cell_type": "code",
   "execution_count": 21,
   "metadata": {},
   "outputs": [
    {
     "name": "stdout",
     "output_type": "stream",
     "text": [
      "  drilldown_id  drilldown_name drilldown  similarity\n",
      "0       157403  Refined Copper       HS4    0.918306\n",
      "1       157402      Raw Copper       HS4    0.917525\n",
      "2       147106          Silver       HS4    0.902452\n",
      "3         1152          Cotton       HS2    0.902449\n",
      "4       157408     Copper Wire       HS4    0.895361\n",
      "5       157601   Raw Aluminium       HS4    0.891539\n",
      "6       158108        Titanium       HS4    0.890708\n",
      "7        74001          Rubber       HS4    0.890134\n",
      "8        52513          Pumice       HS4    0.888260\n",
      "9       147108            Gold       HS4    0.887439\n"
     ]
    },
    {
     "data": {
      "text/plain": [
       "('157403', 'Refined Copper', 0.9183059082074345)"
      ]
     },
     "execution_count": 21,
     "metadata": {},
     "output_type": "execute_result"
    }
   ],
   "source": [
    "get_similar_content('Copper', 'trade_i_baci_a_96', drilldown_names=[\"Section\", \"HS2\", \"HS4\", \"HS6\"], content_limit = 10, embedding_model=\"mixtral\", verbose = True, table_name = 'drilldowns_mixtral')"
   ]
  },
  {
   "cell_type": "markdown",
   "metadata": {},
   "source": [
    "## Snowflake"
   ]
  },
  {
   "cell_type": "code",
   "execution_count": 24,
   "metadata": {},
   "outputs": [
    {
     "name": "stdout",
     "output_type": "stream",
     "text": [
      "  drilldown_id drilldown_name drilldown  similarity\n",
      "0           19        Weapons   Section    0.999996\n",
      "1         1993        Weapons       HS2    0.999996\n",
      "2       147106         Silver       HS4    0.999996\n",
      "3        62804       Hydrogen       HS4    0.999996\n",
      "4        21005           Corn       HS4    0.999996\n",
      "5        10103           Pigs       HS4    0.999996\n",
      "6       158104      Magnesium       HS4    0.999995\n",
      "7        62803         Carbon       HS4    0.999995\n",
      "8        52703           Peat       HS4    0.999995\n",
      "9           15         Metals   Section    0.999995\n"
     ]
    },
    {
     "data": {
      "text/plain": [
       "('19', 'Weapons', 0.999996357185848)"
      ]
     },
     "execution_count": 24,
     "metadata": {},
     "output_type": "execute_result"
    }
   ],
   "source": [
    "get_similar_content('Copper', 'trade_i_baci_a_96', drilldown_names=[\"Section\", \"HS2\", \"HS4\", \"HS6\"], content_limit = 10, embedding_model=\"snowflake-arctic-embed\", verbose = True, table_name = 'drilldowns_snowflake')"
   ]
  },
  {
   "cell_type": "markdown",
   "metadata": {},
   "source": [
    "## All-MiniLM"
   ]
  },
  {
   "cell_type": "code",
   "execution_count": 29,
   "metadata": {},
   "outputs": [
    {
     "name": "stdout",
     "output_type": "stream",
     "text": [
      "  drilldown_id drilldown_name drilldown  similarity\n",
      "0        52516        Granite       HS4         1.0\n",
      "1       158105         Cobalt       HS4         1.0\n",
      "2           15         Metals   Section         1.0\n",
      "3        62802         Sulfur       HS4         1.0\n",
      "4        52521      Limestone       HS4         1.0\n",
      "5        52523         Cement       HS4         1.0\n",
      "6        62803         Carbon       HS4         1.0\n",
      "7       168481         Valves       HS4         1.0\n",
      "8        20805         Citrus       HS4         1.0\n",
      "9       158104      Magnesium       HS4         1.0\n"
     ]
    },
    {
     "data": {
      "text/plain": [
       "('52516', 'Granite', 0.9999998405839169)"
      ]
     },
     "execution_count": 29,
     "metadata": {},
     "output_type": "execute_result"
    }
   ],
   "source": [
    "get_similar_content('Copper', 'trade_i_baci_a_96', drilldown_names=[\"Section\", \"HS2\", \"HS4\", \"HS6\"], content_limit = 10, embedding_model=\"all-minilm\", verbose = True, table_name = 'drilldowns_minilm')"
   ]
  },
  {
   "cell_type": "markdown",
   "metadata": {},
   "source": [
    "## Gemma"
   ]
  },
  {
   "cell_type": "code",
   "execution_count": 31,
   "metadata": {},
   "outputs": [
    {
     "name": "stdout",
     "output_type": "stream",
     "text": [
      "  drilldown_id   drilldown_name drilldown  similarity\n",
      "0       157403   Refined Copper       HS4    0.813989\n",
      "1       147110         Platinum       HS4    0.780237\n",
      "2       157402       Raw Copper       HS4    0.762880\n",
      "3       157204       Scrap Iron       HS4    0.715309\n",
      "4       157404     Scrap Copper       HS4    0.699001\n",
      "5       158108         Titanium       HS4    0.687468\n",
      "6       157602  Scrap Aluminium       HS4    0.685020\n",
      "7       157601    Raw Aluminium       HS4    0.681177\n",
      "8       158002        Scrap Tin       HS4    0.680688\n",
      "9         1152           Cotton       HS2    0.680325\n"
     ]
    },
    {
     "data": {
      "text/plain": [
       "('157403', 'Refined Copper', 0.8139886795791762)"
      ]
     },
     "execution_count": 31,
     "metadata": {},
     "output_type": "execute_result"
    }
   ],
   "source": [
    "get_similar_content('Copper', 'trade_i_baci_a_96', drilldown_names=[\"Section\", \"HS2\", \"HS4\", \"HS6\"], content_limit = 10, embedding_model=\"gemma\", verbose = True, table_name = 'drilldowns_gemma')"
   ]
  },
  {
   "cell_type": "markdown",
   "metadata": {},
   "source": [
    "## Orca Mini"
   ]
  },
  {
   "cell_type": "code",
   "execution_count": 33,
   "metadata": {},
   "outputs": [
    {
     "name": "stdout",
     "output_type": "stream",
     "text": [
      "  drilldown_id  drilldown_name drilldown  similarity\n",
      "0       157402      Raw Copper       HS4    0.736787\n",
      "1       157403  Refined Copper       HS4    0.691185\n",
      "2       158108        Titanium       HS4    0.654922\n",
      "3        52504        Graphite       HS4    0.650295\n",
      "4       158105          Cobalt       HS4    0.640421\n",
      "5       147106          Silver       HS4    0.637459\n",
      "6       157502      Raw Nickel       HS4    0.611918\n",
      "7       158101        Tungsten       HS4    0.607451\n",
      "8       158111       Manganese       HS4    0.600728\n",
      "9       157503    Scrap Nickel       HS4    0.600586\n"
     ]
    },
    {
     "data": {
      "text/plain": [
       "('157402', 'Raw Copper', 0.7367874456261636)"
      ]
     },
     "execution_count": 33,
     "metadata": {},
     "output_type": "execute_result"
    }
   ],
   "source": [
    "get_similar_content('Copper', 'trade_i_baci_a_96', drilldown_names=[\"Section\", \"HS2\", \"HS4\", \"HS6\"], content_limit = 10, embedding_model=\"orca-mini\", verbose = True, table_name = 'drilldowns_orca')"
   ]
  },
  {
   "cell_type": "markdown",
   "metadata": {},
   "source": [
    "## all-mpnet-base-v2 \n",
    "\n",
    "768 dims"
   ]
  },
  {
   "cell_type": "code",
   "execution_count": 10,
   "metadata": {},
   "outputs": [
    {
     "name": "stdout",
     "output_type": "stream",
     "text": [
      "  drilldown_id     drilldown_name drilldown  similarity\n",
      "0       157402         Raw Copper       HS4    0.814558\n",
      "1       157405      Copper Alloys       HS4    0.798261\n",
      "2        52603         Copper Ore       HS4    0.791287\n",
      "3       157404       Scrap Copper       HS4    0.785013\n",
      "4       157406      Copper Powder       HS4    0.772136\n",
      "5       157408        Copper Wire       HS4    0.771526\n",
      "6         1574    Copper articles       HS2    0.770015\n",
      "7       157410        Copper Foil       HS4    0.769857\n",
      "8       157403     Refined Copper       HS4    0.769194\n",
      "9       157418  Copper Housewares       HS4    0.745681\n"
     ]
    },
    {
     "data": {
      "text/plain": [
       "('157402', 'Raw Copper', 0.8145580807780041)"
      ]
     },
     "execution_count": 10,
     "metadata": {},
     "output_type": "execute_result"
    }
   ],
   "source": [
    "get_similar_content('Copper', 'trade_i_baci_a_96', drilldown_names=[\"Section\", \"HS2\", \"HS4\", \"HS6\"], content_limit = 10, embedding_model=\"all-mpnet-base-v2\", verbose = True, table_name = 'drilldowns_mpnet')"
   ]
  },
  {
   "cell_type": "markdown",
   "metadata": {},
   "source": [
    "## all-MiniLM-L12-v2\n",
    "\n",
    "384 dims"
   ]
  },
  {
   "cell_type": "code",
   "execution_count": 11,
   "metadata": {},
   "outputs": [
    {
     "name": "stdout",
     "output_type": "stream",
     "text": [
      "  drilldown_id         drilldown_name drilldown  similarity\n",
      "0       157405          Copper Alloys       HS4    0.847957\n",
      "1       157406          Copper Powder       HS4    0.826002\n",
      "2        52603             Copper Ore       HS4    0.825027\n",
      "3       157408            Copper Wire       HS4    0.810899\n",
      "4       157402             Raw Copper       HS4    0.803406\n",
      "5       157419  Other Copper Products       HS4    0.780931\n",
      "6       157403         Refined Copper       HS4    0.774083\n",
      "7         1574        Copper articles       HS2    0.751719\n",
      "8       157404           Scrap Copper       HS4    0.739936\n",
      "9           15                 Metals   Section    0.739728\n"
     ]
    },
    {
     "data": {
      "text/plain": [
       "('157405', 'Copper Alloys', 0.8479572369417442)"
      ]
     },
     "execution_count": 11,
     "metadata": {},
     "output_type": "execute_result"
    }
   ],
   "source": [
    "get_similar_content('Copper', 'trade_i_baci_a_96', drilldown_names=[\"Section\", \"HS2\", \"HS4\", \"HS6\"], content_limit = 10, embedding_model=\"all-MiniLM-L12-v2\", verbose = True, table_name = 'drilldowns_minilm_l12')"
   ]
  },
  {
   "cell_type": "markdown",
   "metadata": {},
   "source": [
    "## multi-qa-mpnet-base-cos-v1\n",
    "\n",
    "768 dims"
   ]
  },
  {
   "cell_type": "code",
   "execution_count": 2,
   "metadata": {},
   "outputs": [
    {
     "name": "stdout",
     "output_type": "stream",
     "text": [
      "  drilldown_id         drilldown_name drilldown  similarity\n",
      "0       157402             Raw Copper       HS4    0.814248\n",
      "1       157404           Scrap Copper       HS4    0.788714\n",
      "2       157405          Copper Alloys       HS4    0.782611\n",
      "3       157408            Copper Wire       HS4    0.782083\n",
      "4       157410            Copper Foil       HS4    0.779268\n",
      "5         1574        Copper articles       HS2    0.774765\n",
      "6       157419  Other Copper Products       HS4    0.767878\n",
      "7        52603             Copper Ore       HS4    0.761604\n",
      "8       157411           Copper Pipes       HS4    0.756414\n",
      "9       157418      Copper Housewares       HS4    0.752717\n"
     ]
    },
    {
     "data": {
      "text/plain": [
       "('157402', 'Raw Copper', 0.8142482808153229)"
      ]
     },
     "execution_count": 2,
     "metadata": {},
     "output_type": "execute_result"
    }
   ],
   "source": [
    "get_similar_content('Copper', 'trade_i_baci_a_96', drilldown_names=[\"Section\", \"HS2\", \"HS4\", \"HS6\"], content_limit = 10, embedding_model=\"multi-qa-mpnet-base-cos-v1\", verbose = True, table_name = 'drilldowns_multi_qa_mpnet')"
   ]
  },
  {
   "cell_type": "markdown",
   "metadata": {},
   "source": [
    "## sfr-embedding-mistral\n",
    "\n",
    "4096 dims"
   ]
  },
  {
   "cell_type": "code",
   "execution_count": 7,
   "metadata": {},
   "outputs": [
    {
     "name": "stdout",
     "output_type": "stream",
     "text": [
      "  drilldown_id       drilldown_name drilldown  similarity\n",
      "0       157403       Refined Copper       HS4    0.871978\n",
      "1       157402           Raw Copper       HS4    0.829582\n",
      "2       157404         Scrap Copper       HS4    0.781009\n",
      "3       157401  Precipitated Copper       HS4    0.736168\n",
      "4       147106               Silver       HS4    0.564545\n",
      "5       157408          Copper Wire       HS4    0.553320\n",
      "6       157204           Scrap Iron       HS4    0.534782\n",
      "7        52603           Copper Ore       HS4    0.534404\n",
      "8       157418    Copper Housewares       HS4    0.515499\n",
      "9       158108             Titanium       HS4    0.511472\n"
     ]
    },
    {
     "data": {
      "text/plain": [
       "('157403', 'Refined Copper', 0.8719781990986445)"
      ]
     },
     "execution_count": 7,
     "metadata": {},
     "output_type": "execute_result"
    }
   ],
   "source": [
    "get_similar_content('Copper', 'trade_i_baci_a_96', drilldown_names=[\"Section\", \"HS2\", \"HS4\", \"HS6\"], content_limit = 10, embedding_model=\"sfr-embedding-mistral:q8_0\", verbose = True, table_name = 'drilldowns_sfr')"
   ]
  },
  {
   "cell_type": "code",
   "execution_count": null,
   "metadata": {},
   "outputs": [],
   "source": []
  }
 ],
 "metadata": {
  "kernelspec": {
   "display_name": "ai-env",
   "language": "python",
   "name": "python3"
  },
  "language_info": {
   "codemirror_mode": {
    "name": "ipython",
    "version": 3
   },
   "file_extension": ".py",
   "mimetype": "text/x-python",
   "name": "python",
   "nbconvert_exporter": "python",
   "pygments_lexer": "ipython3",
   "version": "3.11.3"
  }
 },
 "nbformat": 4,
 "nbformat_minor": 2
}
